{
  "nbformat": 4,
  "nbformat_minor": 0,
  "metadata": {
    "colab": {
      "name": "Prediction-LSTM-GeneralElectricStock.ipynb",
      "provenance": [],
      "authorship_tag": "ABX9TyOzafoZnRZbon7FHyDmWMVv",
      "include_colab_link": true
    },
    "kernelspec": {
      "name": "python3",
      "display_name": "Python 3"
    },
    "language_info": {
      "name": "python"
    }
  },
  "cells": [
    {
      "cell_type": "markdown",
      "metadata": {
        "id": "view-in-github",
        "colab_type": "text"
      },
      "source": [
        "<a href=\"https://colab.research.google.com/github/achmadbauravindah/Prediction-LSTM-GeneralElectricStock/blob/main/Prediction_LSTM_GeneralElectricStock.ipynb\" target=\"_parent\"><img src=\"https://colab.research.google.com/assets/colab-badge.svg\" alt=\"Open In Colab\"/></a>"
      ]
    },
    {
      "cell_type": "markdown",
      "source": [
        "Nama: Achmad Bauravindah\n",
        "\n",
        "Email: baurav99@gmail.com\n",
        "\n",
        "Asal: Pasuruan, Jawa Timur"
      ],
      "metadata": {
        "id": "_IeaVNEgw1mc"
      }
    },
    {
      "cell_type": "code",
      "execution_count": null,
      "metadata": {
        "id": "c7u2bH__wkA2"
      },
      "outputs": [],
      "source": [
        "import tensorflow as tf\n",
        "from tensorflow.keras.layers import Input, Dense, LSTM\n",
        "from keras.callbacks import Callback, ModelCheckpoint, CSVLogger # Callback\n",
        "from sklearn.preprocessing import MinMaxScaler\n",
        "\n",
        "import matplotlib.pyplot as plt\n",
        "import pandas as pd\n",
        "import seaborn as sns\n",
        "import numpy as np"
      ]
    },
    {
      "cell_type": "markdown",
      "source": [
        "### Download data"
      ],
      "metadata": {
        "id": "SV8ug2ZJQ-Do"
      }
    },
    {
      "cell_type": "code",
      "source": [
        "# Download data from kaggle \n",
        "_ = ! git clone https://github.com/achmadbauravindah/ravin_kaggle_credential.git # get credential from kaggle\n",
        "_ = ! pip install kaggle # install kaggle on drevice\n",
        "_ = ! mkdir ~/.kaggle # make hidden folder .kaggle to configure credential\n",
        "_ = ! cp ravin_kaggle_credential/kaggle.json ~/.kaggle/ # copy credential from github to .kaggle folder\n",
        "_ = ! chmod 600 ~/.kaggle/kaggle.json # change access\n",
        "_ = ! kaggle datasets download general-electric-company-dataset # which dataset to download\n",
        "_ = ! unzip general-electric-company-dataset # unzip if data zipped"
      ],
      "metadata": {
        "id": "HFB_f9q3w7TR"
      },
      "execution_count": null,
      "outputs": []
    },
    {
      "cell_type": "markdown",
      "source": [
        "### Get Data from directory"
      ],
      "metadata": {
        "id": "aIzgHaifQ_1r"
      }
    },
    {
      "cell_type": "code",
      "source": [
        "# Get data from direktori\n",
        "data_path = 'General_Electric_Dataset.csv'\n",
        "data = pd.read_csv(data_path)"
      ],
      "metadata": {
        "id": "40-oQyEMxWZG"
      },
      "execution_count": null,
      "outputs": []
    },
    {
      "cell_type": "markdown",
      "source": [
        "### Show count data"
      ],
      "metadata": {
        "id": "WmjB9PdvRCf_"
      }
    },
    {
      "cell_type": "code",
      "source": [
        "# Jumlah data\n",
        "data.count()"
      ],
      "metadata": {
        "colab": {
          "base_uri": "https://localhost:8080/"
        },
        "id": "tU05AMngyPhU",
        "outputId": "7d621b6b-cc98-41f7-c86a-e1eb81cdcabb"
      },
      "execution_count": null,
      "outputs": [
        {
          "output_type": "execute_result",
          "data": {
            "text/plain": [
              "Date         10737\n",
              "Open         10737\n",
              "High         10737\n",
              "Low          10737\n",
              "Close        10737\n",
              "Adj Close    10737\n",
              "Volume       10737\n",
              "dtype: int64"
            ]
          },
          "metadata": {},
          "execution_count": 4
        }
      ]
    },
    {
      "cell_type": "markdown",
      "source": [
        "## Plotting data"
      ],
      "metadata": {
        "id": "SszVVBacRGYL"
      }
    },
    {
      "cell_type": "code",
      "source": [
        "# Set index dates to data\n",
        "data[\"Date\"] = pd.to_datetime(data.Date, dayfirst=True)\n",
        "data.set_index(\"Date\", inplace=True)"
      ],
      "metadata": {
        "id": "CHKF398T25Zo"
      },
      "execution_count": null,
      "outputs": []
    },
    {
      "cell_type": "code",
      "source": [
        "# Plot All values per Year\n",
        "data[['Open', 'High', 'Low','Close']].plot(figsize=(12,6)).autoscale(axis='x',tight=True);"
      ],
      "metadata": {
        "colab": {
          "base_uri": "https://localhost:8080/",
          "height": 367
        },
        "id": "wP-236VD3CMH",
        "outputId": "6d565a0f-8f8d-4935-c6a7-1f8654e6c234"
      },
      "execution_count": null,
      "outputs": [
        {
          "output_type": "display_data",
          "data": {
            "text/plain": [
              "<Figure size 864x432 with 1 Axes>"
            ],
            "image/png": "[encoded data removed]"
          },
          "metadata": {
            "needs_background": "light"
          }
        }
      ]
    },
    {
      "cell_type": "code",
      "source": [
        "# Plot Open values per Year\n",
        "data[['Open']].plot(figsize=(12,6)).autoscale(axis='x', tight=True);"
      ],
      "metadata": {
        "colab": {
          "base_uri": "https://localhost:8080/",
          "height": 367
        },
        "id": "EY662P00DuZ2",
        "outputId": "adba4ba6-aed2-4a75-f6fe-5dc626aab76c"
      },
      "execution_count": null,
      "outputs": [
        {
          "output_type": "display_data",
          "data": {
            "text/plain": [
              "<Figure size 864x432 with 1 Axes>"
            ],
            "image/png": "[encoded data removed]"
          },
          "metadata": {
            "needs_background": "light"
          }
        }
      ]
    },
    {
      "cell_type": "code",
      "source": [
        "# Reset indexing data\n",
        "data_ge_open = data.reset_index()['Open'] # Column open to forecasting"
      ],
      "metadata": {
        "id": "GBYRnZl8PHPd"
      },
      "execution_count": null,
      "outputs": []
    },
    {
      "cell_type": "markdown",
      "source": [
        "### Skala data"
      ],
      "metadata": {
        "id": "HQv6UcaqRKIS"
      }
    },
    {
      "cell_type": "code",
      "source": [
        "# Skala Data\n",
        "skala_data = (data_ge_open.max()-data_ge_open.min())*0.1\n",
        "print('Skala Data : ', skala_data)"
      ],
      "metadata": {
        "colab": {
          "base_uri": "https://localhost:8080/"
        },
        "id": "WYUyvkWjP-xa",
        "outputId": "c5ba75eb-2cde-4a7c-dc18-a14ffae71a34"
      },
      "execution_count": null,
      "outputs": [
        {
          "output_type": "stream",
          "name": "stdout",
          "text": [
            "Skala Data :  45.100159100000006\n"
          ]
        }
      ]
    },
    {
      "cell_type": "markdown",
      "source": [
        "### Normalization"
      ],
      "metadata": {
        "id": "3zaJYI2RT6s1"
      }
    },
    {
      "cell_type": "code",
      "source": [
        "scaler = MinMaxScaler(feature_range=(0,1))\n",
        "data_ge_open = np.array(data_ge_open)\n",
        "data_ge_open = scaler.fit_transform(data_ge_open.reshape(-1,1))"
      ],
      "metadata": {
        "id": "Pu6OGYT3T1q9"
      },
      "execution_count": null,
      "outputs": []
    },
    {
      "cell_type": "markdown",
      "source": [
        "### Split data (train: 80%, val: 20%)"
      ],
      "metadata": {
        "id": "VUffrFOZUFYc"
      }
    },
    {
      "cell_type": "code",
      "source": [
        "train_size = int(len(data_ge_open) * 0.80)\n",
        "val_size = len(data_ge_open) - train_size"
      ],
      "metadata": {
        "id": "jx3KmNiNUEpB"
      },
      "execution_count": null,
      "outputs": []
    },
    {
      "cell_type": "code",
      "source": [
        "train_size, val_size"
      ],
      "metadata": {
        "colab": {
          "base_uri": "https://localhost:8080/"
        },
        "id": "Pa6jvkyGUP_E",
        "outputId": "2baf0713-6433-4922-b2fa-023295c253b0"
      },
      "execution_count": null,
      "outputs": [
        {
          "output_type": "execute_result",
          "data": {
            "text/plain": [
              "(8589, 2148)"
            ]
          },
          "metadata": {},
          "execution_count": 12
        }
      ]
    },
    {
      "cell_type": "code",
      "source": [
        "train_data = data_ge_open[0:train_size,:] \n",
        "val_data  = data_ge_open[train_size:len(data_ge_open),:1]"
      ],
      "metadata": {
        "id": "HKvV3yAgUesv"
      },
      "execution_count": null,
      "outputs": []
    },
    {
      "cell_type": "markdown",
      "source": [
        "### Create label from window/timestep (100 timestep)"
      ],
      "metadata": {
        "id": "RGWft1A6Utf3"
      }
    },
    {
      "cell_type": "code",
      "source": [
        "def createWindowDataset(dataset, time_step = 1):\n",
        "  X = []\n",
        "  y = []\n",
        "  for i in range(len(dataset) - time_step - 1):\n",
        "    fitur = dataset[i:(i+time_step), 0] # sederet fitur sebelum output timeseries\n",
        "    X.append(fitur)\n",
        "    y.append(dataset[i + time_step, 0]) # output data time series\n",
        "  return np.array(X), np.array(y)"
      ],
      "metadata": {
        "id": "gqD-9whIEH2O"
      },
      "execution_count": null,
      "outputs": []
    },
    {
      "cell_type": "code",
      "source": [
        "X_train, y_train = createWindowDataset(train_data, 100)\n",
        "X_val, y_val = createWindowDataset(val_data, 100)"
      ],
      "metadata": {
        "id": "RPVAEksDTxd8"
      },
      "execution_count": null,
      "outputs": []
    },
    {
      "cell_type": "code",
      "source": [
        "# Check Shape of X_train\n",
        "X_train.shape"
      ],
      "metadata": {
        "colab": {
          "base_uri": "https://localhost:8080/"
        },
        "id": "ZNOZc4FSU-A5",
        "outputId": "aed99993-7202-4e0c-c919-42698ca91369"
      },
      "execution_count": null,
      "outputs": [
        {
          "output_type": "execute_result",
          "data": {
            "text/plain": [
              "(8488, 100)"
            ]
          },
          "metadata": {},
          "execution_count": 16
        }
      ]
    },
    {
      "cell_type": "markdown",
      "source": [
        "### Reshape data for Training Model LSTM "
      ],
      "metadata": {
        "id": "EmyuMPmdVM5_"
      }
    },
    {
      "cell_type": "code",
      "source": [
        " #reshape input\n",
        "X_train = X_train.reshape(X_train.shape[0], X_train.shape[1], 1)\n",
        "X_val = X_val.reshape(X_val.shape[0], X_val.shape[1], 1)"
      ],
      "metadata": {
        "id": "t8Hx1rgnLrmU"
      },
      "execution_count": null,
      "outputs": []
    },
    {
      "cell_type": "code",
      "source": [
        "# Check Shape of X_train after reshape\n",
        "X_train.shape"
      ],
      "metadata": {
        "colab": {
          "base_uri": "https://localhost:8080/"
        },
        "id": "rdiicQCsVnsF",
        "outputId": "2b1b30db-d4f4-43d5-c078-2d1136fda0b8"
      },
      "execution_count": null,
      "outputs": [
        {
          "output_type": "execute_result",
          "data": {
            "text/plain": [
              "(8488, 100, 1)"
            ]
          },
          "metadata": {},
          "execution_count": 18
        }
      ]
    },
    {
      "cell_type": "markdown",
      "source": [
        "### Model Building"
      ],
      "metadata": {
        "id": "dMYhMfwEWcEg"
      }
    },
    {
      "cell_type": "code",
      "source": [
        "model = tf.keras.models.Sequential([\n",
        "            LSTM(60, return_sequences=True),\n",
        "            LSTM(60),\n",
        "            Dense(30, activation=\"relu\"),\n",
        "            Dense(10, activation=\"relu\"),\n",
        "            Dense(1),\n",
        "])\n",
        "\n",
        "model.compile(loss=tf.keras.losses.Huber(),\n",
        "              optimizer='adam',\n",
        "              metrics=[\"mae\"])"
      ],
      "metadata": {
        "id": "12cU2HxlEyUz"
      },
      "execution_count": null,
      "outputs": []
    },
    {
      "cell_type": "markdown",
      "source": [
        "### Callback Setting"
      ],
      "metadata": {
        "id": "7OVq6LI2WjYc"
      }
    },
    {
      "cell_type": "code",
      "source": [
        "# Create Callback\n",
        "\n",
        "# 1 Callback untuk mendapatkan checkpoint setiap akurasi yang membaik dari tiap epoch\n",
        "checkpoint_filepath = '/content/weights-improvement-{epoch:02d}-{val_mae:.2f}.hdf5'\n",
        "checkpointCallback = ModelCheckpoint(filepath=checkpoint_filepath,\n",
        "                                            save_weights_only=True,\n",
        "                                            monitor='val_mae',\n",
        "                                            mode='min',\n",
        "                                            save_best_only=True)\n",
        "\n",
        "# 2 Callback untuk menghentikan proses training pada rentang akurasi tertentu (di-set 100%)\n",
        "class stopTrainingCallback(Callback):\n",
        "  def on_epoch_end(self, epoch,logs={}):\n",
        "    # Tidak memakai skala data (sebesar 45) karena nanti epoch yang di training hanya sedikit\n",
        "    if ((logs.get('mae') <= 0.002) and (logs.get('val_mae') <= 0.002)) :\n",
        "      print('\\n Yeyy mae mencapai nilai kurang dari 0.002 🤩')\n",
        "      self.model.stop_training = True\n",
        "\n",
        "# 3 Callback mendapatkan accuracy, loss, val_loss, val_accuracy dan disimpan pada csv\n",
        "log_csv = CSVLogger('prediction_generalelectric_result.csv', separator=';', append=False)"
      ],
      "metadata": {
        "id": "qjJSHphGWg1c"
      },
      "execution_count": null,
      "outputs": []
    },
    {
      "cell_type": "code",
      "source": [
        "callback_list = [checkpointCallback, stopTrainingCallback(), log_csv]"
      ],
      "metadata": {
        "id": "rjlvOV0hY0HG"
      },
      "execution_count": null,
      "outputs": []
    },
    {
      "cell_type": "markdown",
      "source": [
        "### Model Training"
      ],
      "metadata": {
        "id": "-UZlAz0sWehg"
      }
    },
    {
      "cell_type": "code",
      "source": [
        "history = model.fit(X_train, y_train, validation_data = (X_val, y_val), epochs=100, batch_size=256, callbacks=callback_list)"
      ],
      "metadata": {
        "colab": {
          "base_uri": "https://localhost:8080/"
        },
        "id": "uKQf_vKgG-AH",
        "outputId": "9c24d568-6d8c-414e-b7d0-b5c0b442aa38"
      },
      "execution_count": null,
      "outputs": [
        {
          "output_type": "stream",
          "name": "stdout",
          "text": [
            "Epoch 1/100\n",
            "34/34 [==============================] - 41s 1s/step - loss: 0.0084 - mae: 0.0782 - val_loss: 2.0705e-04 - val_mae: 0.0166\n",
            "Epoch 2/100\n",
            "34/34 [==============================] - 17s 497ms/step - loss: 2.0231e-04 - mae: 0.0137 - val_loss: 9.4008e-05 - val_mae: 0.0103\n",
            "Epoch 3/100\n",
            "34/34 [==============================] - 17s 501ms/step - loss: 1.3511e-04 - mae: 0.0103 - val_loss: 8.6927e-05 - val_mae: 0.0098\n",
            "Epoch 4/100\n",
            "34/34 [==============================] - 17s 498ms/step - loss: 1.2807e-04 - mae: 0.0098 - val_loss: 8.9033e-05 - val_mae: 0.0100\n",
            "Epoch 5/100\n",
            "34/34 [==============================] - 19s 566ms/step - loss: 1.2541e-04 - mae: 0.0095 - val_loss: 8.4289e-05 - val_mae: 0.0097\n",
            "Epoch 6/100\n",
            "34/34 [==============================] - 17s 502ms/step - loss: 1.2201e-04 - mae: 0.0092 - val_loss: 8.1700e-05 - val_mae: 0.0095\n",
            "Epoch 7/100\n",
            "34/34 [==============================] - 19s 556ms/step - loss: 1.1941e-04 - mae: 0.0091 - val_loss: 8.1943e-05 - val_mae: 0.0096\n",
            "Epoch 8/100\n",
            "34/34 [==============================] - 18s 544ms/step - loss: 1.1643e-04 - mae: 0.0089 - val_loss: 7.8712e-05 - val_mae: 0.0094\n",
            "Epoch 9/100\n",
            "34/34 [==============================] - 17s 497ms/step - loss: 1.1456e-04 - mae: 0.0090 - val_loss: 8.6160e-05 - val_mae: 0.0100\n",
            "Epoch 10/100\n",
            "34/34 [==============================] - 17s 498ms/step - loss: 1.2006e-04 - mae: 0.0092 - val_loss: 8.4532e-05 - val_mae: 0.0099\n",
            "Epoch 11/100\n",
            "34/34 [==============================] - 17s 503ms/step - loss: 1.1512e-04 - mae: 0.0088 - val_loss: 7.2445e-05 - val_mae: 0.0089\n",
            "Epoch 12/100\n",
            "34/34 [==============================] - 17s 499ms/step - loss: 1.0679e-04 - mae: 0.0084 - val_loss: 8.5098e-05 - val_mae: 0.0100\n",
            "Epoch 13/100\n",
            "34/34 [==============================] - 17s 506ms/step - loss: 1.0895e-04 - mae: 0.0085 - val_loss: 7.9928e-05 - val_mae: 0.0096\n",
            "Epoch 14/100\n",
            "34/34 [==============================] - 18s 516ms/step - loss: 1.0483e-04 - mae: 0.0082 - val_loss: 6.6788e-05 - val_mae: 0.0086\n",
            "Epoch 15/100\n",
            "34/34 [==============================] - 17s 503ms/step - loss: 1.0139e-04 - mae: 0.0081 - val_loss: 8.8862e-05 - val_mae: 0.0103\n",
            "Epoch 16/100\n",
            "34/34 [==============================] - 17s 496ms/step - loss: 1.0108e-04 - mae: 0.0081 - val_loss: 7.0552e-05 - val_mae: 0.0090\n",
            "Epoch 17/100\n",
            "34/34 [==============================] - 17s 497ms/step - loss: 9.9026e-05 - mae: 0.0081 - val_loss: 6.3216e-05 - val_mae: 0.0084\n",
            "Epoch 18/100\n",
            "34/34 [==============================] - 17s 496ms/step - loss: 9.1945e-05 - mae: 0.0076 - val_loss: 6.4155e-05 - val_mae: 0.0085\n",
            "Epoch 19/100\n",
            "34/34 [==============================] - 17s 498ms/step - loss: 9.5250e-05 - mae: 0.0079 - val_loss: 7.5965e-05 - val_mae: 0.0095\n",
            "Epoch 20/100\n",
            "34/34 [==============================] - 17s 501ms/step - loss: 9.7563e-05 - mae: 0.0080 - val_loss: 8.1241e-05 - val_mae: 0.0099\n",
            "Epoch 21/100\n",
            "34/34 [==============================] - 17s 500ms/step - loss: 1.0014e-04 - mae: 0.0084 - val_loss: 5.5614e-05 - val_mae: 0.0078\n",
            "Epoch 22/100\n",
            "34/34 [==============================] - 18s 542ms/step - loss: 8.8100e-05 - mae: 0.0076 - val_loss: 5.4770e-05 - val_mae: 0.0077\n",
            "Epoch 23/100\n",
            "34/34 [==============================] - 17s 498ms/step - loss: 8.7019e-05 - mae: 0.0075 - val_loss: 5.4343e-05 - val_mae: 0.0077\n",
            "Epoch 24/100\n",
            "34/34 [==============================] - 17s 499ms/step - loss: 8.5283e-05 - mae: 0.0075 - val_loss: 5.2643e-05 - val_mae: 0.0076\n",
            "Epoch 25/100\n",
            "34/34 [==============================] - 17s 494ms/step - loss: 8.5093e-05 - mae: 0.0074 - val_loss: 5.3273e-05 - val_mae: 0.0077\n",
            "Epoch 26/100\n",
            "34/34 [==============================] - 17s 507ms/step - loss: 8.7314e-05 - mae: 0.0075 - val_loss: 6.2938e-05 - val_mae: 0.0086\n",
            "Epoch 27/100\n",
            "34/34 [==============================] - 17s 495ms/step - loss: 8.7441e-05 - mae: 0.0076 - val_loss: 7.4162e-05 - val_mae: 0.0095\n",
            "Epoch 28/100\n",
            "34/34 [==============================] - 17s 499ms/step - loss: 7.9729e-05 - mae: 0.0071 - val_loss: 5.4960e-05 - val_mae: 0.0079\n",
            "Epoch 29/100\n",
            "34/34 [==============================] - 18s 534ms/step - loss: 8.9852e-05 - mae: 0.0079 - val_loss: 6.9503e-05 - val_mae: 0.0093\n",
            "Epoch 30/100\n",
            "34/34 [==============================] - 17s 493ms/step - loss: 8.4151e-05 - mae: 0.0075 - val_loss: 5.0789e-05 - val_mae: 0.0076\n",
            "Epoch 31/100\n",
            "34/34 [==============================] - 17s 497ms/step - loss: 8.3408e-05 - mae: 0.0074 - val_loss: 5.0927e-05 - val_mae: 0.0076\n",
            "Epoch 32/100\n",
            "34/34 [==============================] - 17s 496ms/step - loss: 8.4848e-05 - mae: 0.0077 - val_loss: 8.4775e-05 - val_mae: 0.0104\n",
            "Epoch 33/100\n",
            "34/34 [==============================] - 17s 494ms/step - loss: 8.0322e-05 - mae: 0.0074 - val_loss: 1.2215e-04 - val_mae: 0.0129\n",
            "Epoch 34/100\n",
            "34/34 [==============================] - 17s 499ms/step - loss: 8.5790e-05 - mae: 0.0079 - val_loss: 4.8086e-05 - val_mae: 0.0073\n",
            "Epoch 35/100\n",
            "34/34 [==============================] - 17s 497ms/step - loss: 7.1020e-05 - mae: 0.0067 - val_loss: 6.4145e-05 - val_mae: 0.0088\n",
            "Epoch 36/100\n",
            "34/34 [==============================] - 17s 495ms/step - loss: 7.4442e-05 - mae: 0.0070 - val_loss: 4.5110e-05 - val_mae: 0.0070\n",
            "Epoch 37/100\n",
            "34/34 [==============================] - 18s 532ms/step - loss: 7.2255e-05 - mae: 0.0069 - val_loss: 4.4386e-05 - val_mae: 0.0070\n",
            "Epoch 38/100\n",
            "34/34 [==============================] - 17s 496ms/step - loss: 7.1776e-05 - mae: 0.0069 - val_loss: 4.3736e-05 - val_mae: 0.0069\n",
            "Epoch 39/100\n",
            "34/34 [==============================] - 17s 497ms/step - loss: 8.3717e-05 - mae: 0.0079 - val_loss: 4.5070e-05 - val_mae: 0.0071\n",
            "Epoch 40/100\n",
            "34/34 [==============================] - 17s 500ms/step - loss: 7.9060e-05 - mae: 0.0073 - val_loss: 4.4630e-05 - val_mae: 0.0070\n",
            "Epoch 41/100\n",
            "34/34 [==============================] - 17s 500ms/step - loss: 7.0345e-05 - mae: 0.0069 - val_loss: 4.8092e-05 - val_mae: 0.0074\n",
            "Epoch 42/100\n",
            "34/34 [==============================] - 17s 500ms/step - loss: 6.6717e-05 - mae: 0.0065 - val_loss: 4.5511e-05 - val_mae: 0.0072\n",
            "Epoch 43/100\n",
            "34/34 [==============================] - 17s 500ms/step - loss: 6.5094e-05 - mae: 0.0064 - val_loss: 3.9650e-05 - val_mae: 0.0066\n",
            "Epoch 44/100\n",
            "34/34 [==============================] - 18s 535ms/step - loss: 6.6043e-05 - mae: 0.0066 - val_loss: 4.4540e-05 - val_mae: 0.0071\n",
            "Epoch 45/100\n",
            "34/34 [==============================] - 17s 498ms/step - loss: 6.5664e-05 - mae: 0.0066 - val_loss: 3.9809e-05 - val_mae: 0.0066\n",
            "Epoch 46/100\n",
            "34/34 [==============================] - 17s 499ms/step - loss: 6.9873e-05 - mae: 0.0069 - val_loss: 3.9321e-05 - val_mae: 0.0066\n",
            "Epoch 47/100\n",
            "34/34 [==============================] - 17s 498ms/step - loss: 6.4287e-05 - mae: 0.0066 - val_loss: 4.3150e-05 - val_mae: 0.0070\n",
            "Epoch 48/100\n",
            "34/34 [==============================] - 17s 497ms/step - loss: 6.1421e-05 - mae: 0.0063 - val_loss: 3.9972e-05 - val_mae: 0.0066\n",
            "Epoch 49/100\n",
            "34/34 [==============================] - 17s 497ms/step - loss: 6.3169e-05 - mae: 0.0065 - val_loss: 3.8975e-05 - val_mae: 0.0065\n",
            "Epoch 50/100\n",
            "34/34 [==============================] - 17s 504ms/step - loss: 6.3419e-05 - mae: 0.0066 - val_loss: 3.7917e-05 - val_mae: 0.0065\n",
            "Epoch 51/100\n",
            "34/34 [==============================] - 17s 498ms/step - loss: 6.1600e-05 - mae: 0.0065 - val_loss: 4.8450e-05 - val_mae: 0.0075\n",
            "Epoch 52/100\n",
            "34/34 [==============================] - 18s 534ms/step - loss: 6.1491e-05 - mae: 0.0065 - val_loss: 3.6040e-05 - val_mae: 0.0062\n",
            "Epoch 53/100\n",
            "34/34 [==============================] - 17s 503ms/step - loss: 7.2446e-05 - mae: 0.0074 - val_loss: 6.0998e-05 - val_mae: 0.0088\n",
            "Epoch 54/100\n",
            "34/34 [==============================] - 17s 497ms/step - loss: 6.6958e-05 - mae: 0.0069 - val_loss: 3.6432e-05 - val_mae: 0.0063\n",
            "Epoch 55/100\n",
            "34/34 [==============================] - 17s 502ms/step - loss: 5.8693e-05 - mae: 0.0063 - val_loss: 3.8848e-05 - val_mae: 0.0065\n",
            "Epoch 56/100\n",
            "34/34 [==============================] - 17s 501ms/step - loss: 5.6206e-05 - mae: 0.0060 - val_loss: 4.6614e-05 - val_mae: 0.0075\n",
            "Epoch 57/100\n",
            "34/34 [==============================] - 17s 502ms/step - loss: 7.1179e-05 - mae: 0.0074 - val_loss: 7.0409e-05 - val_mae: 0.0096\n",
            "Epoch 58/100\n",
            "34/34 [==============================] - 17s 502ms/step - loss: 5.9720e-05 - mae: 0.0063 - val_loss: 3.7876e-05 - val_mae: 0.0065\n",
            "Epoch 59/100\n",
            "34/34 [==============================] - 19s 551ms/step - loss: 5.6254e-05 - mae: 0.0061 - val_loss: 3.4904e-05 - val_mae: 0.0062\n",
            "Epoch 60/100\n",
            "34/34 [==============================] - 17s 498ms/step - loss: 5.5910e-05 - mae: 0.0061 - val_loss: 3.3672e-05 - val_mae: 0.0060\n",
            "Epoch 61/100\n",
            "34/34 [==============================] - 17s 500ms/step - loss: 5.3006e-05 - mae: 0.0059 - val_loss: 4.2521e-05 - val_mae: 0.0070\n",
            "Epoch 62/100\n",
            "34/34 [==============================] - 17s 503ms/step - loss: 5.1059e-05 - mae: 0.0057 - val_loss: 3.3428e-05 - val_mae: 0.0060\n",
            "Epoch 63/100\n",
            "34/34 [==============================] - 17s 503ms/step - loss: 5.6225e-05 - mae: 0.0062 - val_loss: 8.0947e-05 - val_mae: 0.0106\n",
            "Epoch 64/100\n",
            "34/34 [==============================] - 17s 504ms/step - loss: 5.9919e-05 - mae: 0.0065 - val_loss: 3.8387e-05 - val_mae: 0.0067\n",
            "Epoch 65/100\n",
            "34/34 [==============================] - 17s 503ms/step - loss: 5.8867e-05 - mae: 0.0066 - val_loss: 3.1566e-05 - val_mae: 0.0058\n",
            "Epoch 66/100\n",
            "34/34 [==============================] - 18s 543ms/step - loss: 5.1749e-05 - mae: 0.0058 - val_loss: 3.1033e-05 - val_mae: 0.0057\n",
            "Epoch 67/100\n",
            "34/34 [==============================] - 17s 498ms/step - loss: 5.0305e-05 - mae: 0.0058 - val_loss: 4.5579e-05 - val_mae: 0.0074\n",
            "Epoch 68/100\n",
            "34/34 [==============================] - 17s 500ms/step - loss: 5.5911e-05 - mae: 0.0064 - val_loss: 4.2594e-05 - val_mae: 0.0071\n",
            "Epoch 69/100\n",
            "34/34 [==============================] - 17s 505ms/step - loss: 5.3266e-05 - mae: 0.0060 - val_loss: 4.2216e-05 - val_mae: 0.0070\n",
            "Epoch 70/100\n",
            "34/34 [==============================] - 17s 503ms/step - loss: 5.8621e-05 - mae: 0.0066 - val_loss: 3.0359e-05 - val_mae: 0.0057\n",
            "Epoch 71/100\n",
            "34/34 [==============================] - 17s 498ms/step - loss: 5.3654e-05 - mae: 0.0062 - val_loss: 3.0053e-05 - val_mae: 0.0056\n",
            "Epoch 72/100\n",
            "34/34 [==============================] - 17s 499ms/step - loss: 4.7101e-05 - mae: 0.0055 - val_loss: 4.2279e-05 - val_mae: 0.0071\n",
            "Epoch 73/100\n",
            "34/34 [==============================] - 17s 501ms/step - loss: 4.7350e-05 - mae: 0.0056 - val_loss: 2.9964e-05 - val_mae: 0.0057\n",
            "Epoch 74/100\n",
            "34/34 [==============================] - 18s 534ms/step - loss: 4.6791e-05 - mae: 0.0056 - val_loss: 4.6301e-05 - val_mae: 0.0076\n",
            "Epoch 75/100\n",
            "34/34 [==============================] - 17s 501ms/step - loss: 5.1201e-05 - mae: 0.0061 - val_loss: 3.3806e-05 - val_mae: 0.0062\n",
            "Epoch 76/100\n",
            "34/34 [==============================] - 17s 502ms/step - loss: 4.7508e-05 - mae: 0.0058 - val_loss: 3.6895e-05 - val_mae: 0.0065\n",
            "Epoch 77/100\n",
            "34/34 [==============================] - 17s 503ms/step - loss: 4.7352e-05 - mae: 0.0057 - val_loss: 2.7462e-05 - val_mae: 0.0054\n",
            "Epoch 78/100\n",
            "34/34 [==============================] - 17s 500ms/step - loss: 4.4089e-05 - mae: 0.0054 - val_loss: 3.0015e-05 - val_mae: 0.0057\n",
            "Epoch 79/100\n",
            "34/34 [==============================] - 17s 501ms/step - loss: 4.3664e-05 - mae: 0.0053 - val_loss: 2.8355e-05 - val_mae: 0.0055\n",
            "Epoch 80/100\n",
            "34/34 [==============================] - 17s 502ms/step - loss: 4.7606e-05 - mae: 0.0057 - val_loss: 3.2091e-05 - val_mae: 0.0060\n",
            "Epoch 81/100\n",
            "34/34 [==============================] - 18s 542ms/step - loss: 4.3905e-05 - mae: 0.0055 - val_loss: 6.1491e-05 - val_mae: 0.0091\n",
            "Epoch 82/100\n",
            "34/34 [==============================] - 17s 505ms/step - loss: 5.0105e-05 - mae: 0.0061 - val_loss: 3.8179e-05 - val_mae: 0.0067\n",
            "Epoch 83/100\n",
            "34/34 [==============================] - 17s 509ms/step - loss: 5.0343e-05 - mae: 0.0061 - val_loss: 3.6624e-05 - val_mae: 0.0066\n",
            "Epoch 84/100\n",
            "34/34 [==============================] - 17s 500ms/step - loss: 4.3113e-05 - mae: 0.0055 - val_loss: 2.6181e-05 - val_mae: 0.0052\n",
            "Epoch 85/100\n",
            "34/34 [==============================] - 17s 506ms/step - loss: 4.1781e-05 - mae: 0.0053 - val_loss: 2.6835e-05 - val_mae: 0.0054\n",
            "Epoch 86/100\n",
            "34/34 [==============================] - 17s 497ms/step - loss: 4.3230e-05 - mae: 0.0054 - val_loss: 2.6355e-05 - val_mae: 0.0052\n",
            "Epoch 87/100\n",
            "34/34 [==============================] - 29s 874ms/step - loss: 4.3274e-05 - mae: 0.0055 - val_loss: 2.6648e-05 - val_mae: 0.0054\n",
            "Epoch 88/100\n",
            "34/34 [==============================] - 19s 542ms/step - loss: 4.8575e-05 - mae: 0.0059 - val_loss: 2.7649e-05 - val_mae: 0.0055\n",
            "Epoch 89/100\n",
            "34/34 [==============================] - 17s 503ms/step - loss: 4.0548e-05 - mae: 0.0051 - val_loss: 3.1006e-05 - val_mae: 0.0059\n",
            "Epoch 90/100\n",
            "34/34 [==============================] - 17s 500ms/step - loss: 4.1392e-05 - mae: 0.0053 - val_loss: 2.6150e-05 - val_mae: 0.0053\n",
            "Epoch 91/100\n",
            "34/34 [==============================] - 17s 501ms/step - loss: 3.9481e-05 - mae: 0.0052 - val_loss: 3.5385e-05 - val_mae: 0.0065\n",
            "Epoch 92/100\n",
            "34/34 [==============================] - 18s 517ms/step - loss: 4.0723e-05 - mae: 0.0053 - val_loss: 6.9233e-05 - val_mae: 0.0099\n",
            "Epoch 93/100\n",
            "34/34 [==============================] - 17s 504ms/step - loss: 4.6598e-05 - mae: 0.0059 - val_loss: 2.9603e-05 - val_mae: 0.0058\n",
            "Epoch 94/100\n",
            "34/34 [==============================] - 17s 506ms/step - loss: 3.8569e-05 - mae: 0.0051 - val_loss: 3.1522e-05 - val_mae: 0.0061\n",
            "Epoch 95/100\n",
            "34/34 [==============================] - 18s 544ms/step - loss: 3.7961e-05 - mae: 0.0051 - val_loss: 2.7095e-05 - val_mae: 0.0055\n",
            "Epoch 96/100\n",
            "34/34 [==============================] - 18s 543ms/step - loss: 4.0237e-05 - mae: 0.0052 - val_loss: 2.9748e-05 - val_mae: 0.0058\n",
            "Epoch 97/100\n",
            "34/34 [==============================] - 17s 500ms/step - loss: 3.9650e-05 - mae: 0.0053 - val_loss: 3.1933e-05 - val_mae: 0.0062\n",
            "Epoch 98/100\n",
            "34/34 [==============================] - 17s 499ms/step - loss: 3.8728e-05 - mae: 0.0051 - val_loss: 2.2437e-05 - val_mae: 0.0048\n",
            "Epoch 99/100\n",
            "34/34 [==============================] - 17s 499ms/step - loss: 3.6801e-05 - mae: 0.0049 - val_loss: 2.7009e-05 - val_mae: 0.0055\n",
            "Epoch 100/100\n",
            "34/34 [==============================] - 17s 500ms/step - loss: 4.0366e-05 - mae: 0.0053 - val_loss: 2.7550e-05 - val_mae: 0.0056\n"
          ]
        }
      ]
    },
    {
      "cell_type": "code",
      "source": [
        "# Show history of mae training model\n",
        "plt.plot(history.history['mae'])\n",
        "plt.plot(history.history['val_mae'])\n",
        "plt.title('model mae')\n",
        "plt.ylabel('mae')\n",
        "plt.xlabel('epoch')\n",
        "plt.legend(['train', 'val'], loc='upper left')\n",
        "plt.show()\n",
        "# Show history of loss training model\n",
        "plt.plot(history.history['loss'])\n",
        "plt.plot(history.history['val_loss'])\n",
        "plt.title('model loss')\n",
        "plt.ylabel('loss')\n",
        "plt.xlabel('epoch')\n",
        "plt.legend(['train', 'val'], loc='upper left')\n",
        "plt.show()"
      ],
      "metadata": {
        "id": "_nFZy3DDWTsE",
        "colab": {
          "base_uri": "https://localhost:8080/",
          "height": 573
        },
        "outputId": "13816cc3-682e-4bea-9c95-ea5f61ee8049"
      },
      "execution_count": null,
      "outputs": [
        {
          "output_type": "display_data",
          "data": {
            "text/plain": [
              "<Figure size 432x288 with 1 Axes>"
            ],
            "image/png": "[encoded data removed]"
          },
          "metadata": {
            "needs_background": "light"
          }
        },
        {
          "output_type": "display_data",
          "data": {
            "text/plain": [
              "<Figure size 432x288 with 1 Axes>"
            ],
            "image/png": "[encoded data removed]"
          },
          "metadata": {
            "needs_background": "light"
          }
        }
      ]
    }
  ]
}